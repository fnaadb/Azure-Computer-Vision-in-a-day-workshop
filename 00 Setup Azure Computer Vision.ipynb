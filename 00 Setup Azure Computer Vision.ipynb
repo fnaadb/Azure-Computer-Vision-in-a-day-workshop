{
 "cells": [
  {
   "cell_type": "markdown",
   "id": "e4c5a36d",
   "metadata": {},
   "source": [
    "# Azure Computer Vision 4 (Florence)\n",
    "## Setup Azure Computer Vision\n",
    "<br><br>\n",
    "> Serge Retkowsky | Microsoft | https://github.com/retkowsky | 18th of April, 2023"
   ]
  },
  {
   "cell_type": "markdown",
   "id": "686b984a",
   "metadata": {},
   "source": [
    "## 1 Azure Computer Vision 4 presentation\n",
    "![Azure CV](img/pres.jpg)\n",
    "\n",
    "### Presentation:\n",
    "\n",
    "<a href=\"Azure Computer Vision 4.pdf\">Azure Computer Vision 4 PowerPoint presentation</a>\n",
    "\n",
    "## 2 Azure Computer Vision service\n",
    "- An Azure subscription - Create one for free\n",
    "https://azure.microsoft.com/free/cognitive-services/\n",
    "\n",
    "- Once you have your Azure subscription, create a Computer Vision resource in the Azure portal. \n",
    "In order to use the captioning feature in this quickstart, you must create your resource in one of the following Azure regions: East US, France Central, Korea Central, North Europe, Southeast Asia, West Europe, West US. After it deploys, click Go to resource: https://portal.azure.com/#create/Microsoft.CognitiveServicesComputerVision\n",
    "\n",
    "You will need the key and endpoint from the resource you create to connect your application to the Computer Vision service.\n",
    "You can use the free pricing tier (F0) to try the service, and upgrade later to a paid tier for production.\n",
    "\n",
    "##  3 Declare your Azure Computer Vision endpoint and key\n",
    "Edit the **azure.env** file and **visualsearch.env** file with your **Azure Computer Vision endpoint and key**\n",
    "\n",
    "## 4 Azure Vision Studio\n",
    "\n",
    "### Studio: \n",
    "https://portal.vision.cognitive.azure.com\n",
    "\n",
    "![Azure CV](https://learn.microsoft.com/en-us/azure/cognitive-services/computer-vision/images/vision-studio-home-page.png)\n",
    "\n",
    "\n",
    "https://learn.microsoft.com/en-us/azure/cognitive-services/computer-vision/overview-vision-studio\n",
    "\n",
    "## 5 Documentation\n",
    "- https://learn.microsoft.com/en-us/azure/cognitive-services/computer-vision\n",
    "- https://learn.microsoft.com/en-us/azure/cognitive-services/computer-vision/overview\n",
    "\n",
    "## 6 What's new\n",
    "https://learn.microsoft.com/en-us/azure/cognitive-services/computer-vision/whats-new\n",
    "\n",
    "## 7 Pricing\n",
    "https://azure.microsoft.com/en-us/pricing/details/cognitive-services/computer-vision\n",
    "\n",
    "## 8 Project Florence\n",
    "- https://www.microsoft.com/en-us/research/project/projectflorence\n",
    "- https://arxiv.org/abs/2111.11432"
   ]
  },
  {
   "cell_type": "code",
   "execution_count": null,
   "id": "1d53ed5e",
   "metadata": {},
   "outputs": [],
   "source": []
  }
 ],
 "metadata": {
  "kernelspec": {
   "display_name": "Python 3 (ipykernel)",
   "language": "python",
   "name": "python3"
  },
  "language_info": {
   "codemirror_mode": {
    "name": "ipython",
    "version": 3
   },
   "file_extension": ".py",
   "mimetype": "text/x-python",
   "name": "python",
   "nbconvert_exporter": "python",
   "pygments_lexer": "ipython3",
   "version": "3.8.5"
  }
 },
 "nbformat": 4,
 "nbformat_minor": 5
}
